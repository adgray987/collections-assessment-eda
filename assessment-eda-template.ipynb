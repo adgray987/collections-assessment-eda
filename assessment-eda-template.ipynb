{
 "cells": [
  {
   "cell_type": "markdown",
   "metadata": {},
   "source": [
    "# Template for Collections Assessment Exploratory Analysis\n",
    "\n",
    "Template notebook for basic cleaning and exploratory analysis of archival collections assessment data using Pandas."
   ]
  },
  {
   "cell_type": "markdown",
   "metadata": {},
   "source": [
    "## Data Source\n",
    "- Source:\n",
    "- Date recieved:\n",
    "- Original file name:"
   ]
  },
  {
   "cell_type": "markdown",
   "metadata": {},
   "source": [
    "## Requirements\n",
    "\n",
    "- Pandas\n",
    "- Numpy"
   ]
  },
  {
   "cell_type": "markdown",
   "metadata": {},
   "source": [
    "Set up environment"
   ]
  },
  {
   "cell_type": "code",
   "execution_count": 1,
   "metadata": {
    "scrolled": true
   },
   "outputs": [],
   "source": [
    "# Set up environment\n",
    "import pandas as pd\n",
    "import numpy as np\n",
    "from pandas.api.types import CategoricalDtype"
   ]
  },
  {
   "cell_type": "markdown",
   "metadata": {},
   "source": [
    "Load data and create DataFrame"
   ]
  },
  {
   "cell_type": "code",
   "execution_count": 2,
   "metadata": {
    "scrolled": true
   },
   "outputs": [],
   "source": [
    "# Load CSV and create DataFrame. Modify file path and header argument as needed.\n",
    "file = 'data_raw/assessment_list_report.csv'\n",
    "assessment = pd.read_csv(file, header=3)"
   ]
  },
  {
   "cell_type": "code",
   "execution_count": 7,
   "metadata": {
    "scrolled": true
   },
   "outputs": [
    {
     "name": "stdout",
     "output_type": "stream",
     "text": [
      "There are a total of 300 assessment records.\n",
      "There are a total of 75 columns.\n"
     ]
    }
   ],
   "source": [
    "# Check the shape of the DataFrame (rows x columns)\n",
    "print(f'There are a total of {assessment.shape[0]} assessment records.')\n",
    "print(f'There are a total of {assessment.shape[1]} columns.')"
   ]
  },
  {
   "cell_type": "code",
   "execution_count": 21,
   "metadata": {
    "scrolled": true
   },
   "outputs": [
    {
     "name": "stdout",
     "output_type": "stream",
     "text": [
      "Column indicies:\n",
      "\n",
      "0 linked_records_record_id\n",
      "1 linked_records_record_title\n",
      "2 linked_records_identifier\n",
      "3 id\n",
      "4 accession_report\n",
      "5 appraisal\n",
      "6 container_list\n",
      "7 catalog_record\n",
      "8 control_file\n",
      "9 deed_of_gift\n",
      "10 finding_aid_ead\n",
      "11 finding_aid_online\n",
      "12 finding_aid_paper\n",
      "13 finding_aid_word\n",
      "14 finding_aid_spreadsheet\n",
      "15 related_eac_records\n",
      "16 surveyed_by\n",
      "17 survey_begin\n",
      "18 survey_end\n",
      "19 surveyed_duration\n",
      "20 surveyed_extent\n",
      "21 review_required\n",
      "22 inactive\n",
      "23 sensitive_material\n",
      "24 purpose\n",
      "25 scope\n",
      "26 general_assessment_note\n",
      "27 existing_description_notes\n",
      "28 monetary_value\n",
      "29 monetary_value_note\n",
      "30 special_format_note\n",
      "31 conservation_note\n",
      "32 architectural_materials\n",
      "33 art_originals\n",
      "34 artifacts\n",
      "35 audio_materials\n",
      "36 biological_specimens\n",
      "37 botanical_specimens\n",
      "38 computer_storage_units\n",
      "39 film_negative_slide_or_motion_picture\n",
      "40 glass\n",
      "41 photographs\n",
      "42 scrapbooks\n",
      "43 technical_drawings_schematics\n",
      "44 textiles\n",
      "45 video_materials\n",
      "46 potential_mold_or_mold_damage\n",
      "47 recent_pest_damage\n",
      "48 deteriorating_film_base\n",
      "49 brittle_paper\n",
      "50 metal_fasteners\n",
      "51 newspaper\n",
      "52 tape\n",
      "53 heat_sensitive_paper\n",
      "54 water_damage\n",
      "55 housing_quality_rating\n",
      "56 housing_quality_note\n",
      "57 physical_condition_rating\n",
      "58 physical_access_arrangement_rating\n",
      "59 intellectual_access_description_rating\n",
      "60 interest_rating\n",
      "61 documentation_quality_rating\n",
      "62 documentation_quality_note\n",
      "63 research_value_rating\n"
     ]
    }
   ],
   "source": [
    "# Printing column indicies may come in handy.\n",
    "print(f'Column indicies:\\n')\n",
    "for i, c in enumerate(assessment.columns):\n",
    "    print(f'{i} {c}')"
   ]
  },
  {
   "cell_type": "code",
   "execution_count": 11,
   "metadata": {},
   "outputs": [
    {
     "name": "stdout",
     "output_type": "stream",
     "text": [
      "<class 'pandas.core.frame.DataFrame'>\n",
      "RangeIndex: 300 entries, 0 to 299\n",
      "Data columns (total 75 columns):\n",
      "linked_records_record_id                  300 non-null object\n",
      "linked_records_record_title               300 non-null object\n",
      "linked_records_identifier                 300 non-null object\n",
      "id                                        300 non-null int64\n",
      "accession_report                          300 non-null object\n",
      "appraisal                                 300 non-null object\n",
      "container_list                            300 non-null object\n",
      "catalog_record                            300 non-null object\n",
      "control_file                              300 non-null object\n",
      "deed_of_gift                              300 non-null object\n",
      "finding_aid_ead                           300 non-null object\n",
      "finding_aid_online                        300 non-null object\n",
      "finding_aid_paper                         300 non-null object\n",
      "finding_aid_word                          300 non-null object\n",
      "finding_aid_spreadsheet                   300 non-null object\n",
      "related_eac_records                       300 non-null object\n",
      "surveyed_by                               300 non-null object\n",
      "survey_begin                              300 non-null object\n",
      "survey_end                                300 non-null object\n",
      "surveyed_duration                         300 non-null object\n",
      "surveyed_extent                           300 non-null float64\n",
      "review_required                           300 non-null object\n",
      "reviewer                                  0 non-null float64\n",
      "inactive                                  300 non-null object\n",
      "sensitive_material                        300 non-null object\n",
      "purpose                                   300 non-null object\n",
      "scope                                     300 non-null float64\n",
      "general_assessment_note                   22 non-null object\n",
      "exhibition_value_note                     0 non-null float64\n",
      "existing_description_notes                4 non-null object\n",
      "review_note                               0 non-null float64\n",
      "monetary_value                            1 non-null object\n",
      "monetary_value_note                       1 non-null object\n",
      "special_format_note                       4 non-null object\n",
      "conservation_note                         6 non-null object\n",
      "architectural_materials                   3 non-null object\n",
      "art_originals                             28 non-null object\n",
      "artifacts                                 2 non-null object\n",
      "audio_materials                           135 non-null object\n",
      "biological_specimens                      55 non-null object\n",
      "botanical_specimens                       1 non-null object\n",
      "computer_storage_units                    63 non-null object\n",
      "film_negative_slide_or_motion_picture     27 non-null object\n",
      "glass                                     27 non-null object\n",
      "photographs                               37 non-null object\n",
      "scrapbooks                                14 non-null object\n",
      "technical_drawings_schematics             3 non-null object\n",
      "textiles                                  2 non-null object\n",
      "vellum_parchment                          0 non-null float64\n",
      "video_materials                           27 non-null object\n",
      "potential_mold_or_mold_damage             28 non-null object\n",
      "recent_pest_damage                        1 non-null object\n",
      "deteriorating_film_base                   61 non-null object\n",
      "brittle_paper                             55 non-null object\n",
      "metal_fasteners                           41 non-null object\n",
      "newspaper                                 25 non-null object\n",
      "tape                                      49 non-null object\n",
      "heat_sensitive_paper                      2 non-null object\n",
      "water_damage                              4 non-null object\n",
      "reformatting_readiness_rating             0 non-null float64\n",
      "reformatting_readiness_note               0 non-null float64\n",
      "housing_quality_rating                    300 non-null int64\n",
      "housing_quality_note                      21 non-null object\n",
      "physical_condition_rating                 300 non-null int64\n",
      "physical_condition_note                   0 non-null float64\n",
      "physical_access_arrangement_rating        300 non-null int64\n",
      "physical_access_arrangement_note          0 non-null float64\n",
      "intellectual_access_description_rating    162 non-null float64\n",
      "intellectual_access_description_note      0 non-null float64\n",
      "interest_rating                           300 non-null int64\n",
      "interest_note                             0 non-null float64\n",
      "documentation_quality_rating              300 non-null int64\n",
      "documentation_quality_note                8 non-null object\n",
      "research_value_rating                     300 non-null int64\n",
      "research_value_note                       0 non-null float64\n",
      "dtypes: float64(14), int64(7), object(54)\n",
      "memory usage: 175.9+ KB\n"
     ]
    }
   ],
   "source": [
    "# View null counts and dtypes for all columns\n",
    "assessment.info()"
   ]
  },
  {
   "cell_type": "markdown",
   "metadata": {},
   "source": [
    "## Clean and prepare the data\n",
    "### Drop empty and irrelevant columns"
   ]
  },
  {
   "cell_type": "code",
   "execution_count": 12,
   "metadata": {},
   "outputs": [
    {
     "data": {
      "text/plain": [
       "(300, 64)"
      ]
     },
     "execution_count": 12,
     "metadata": {},
     "output_type": "execute_result"
    }
   ],
   "source": [
    "# Drop empty columns\n",
    "assessment.dropna(how='all', inplace=True, axis=1)\n",
    "assessment.shape"
   ]
  },
  {
   "cell_type": "code",
   "execution_count": 14,
   "metadata": {
    "scrolled": true
   },
   "outputs": [],
   "source": [
    "# # Remove irrelevant columns. Modify list of columns as needed.\n",
    "# to_drop = ['column', 'names', 'to drop']\n",
    "\n",
    "# assessment.drop(to_drop, inplace=True, axis=1)\n",
    "\n",
    "# assessment.shape"
   ]
  },
  {
   "cell_type": "markdown",
   "metadata": {},
   "source": [
    "### Rename columns as needed"
   ]
  },
  {
   "cell_type": "code",
   "execution_count": 16,
   "metadata": {},
   "outputs": [],
   "source": [
    "# # Rename columns\n",
    "# new_names = {'old name 1' : 'new name 1', 'old name 2' : 'new name 2'}\n",
    "# assessment.rename(columns=new_names, inplace=True)\n",
    "\n",
    "# assessment[['new name 1', 'new name 2']].head()"
   ]
  },
  {
   "cell_type": "markdown",
   "metadata": {},
   "source": [
    "### Clean/standardize free-text fields"
   ]
  },
  {
   "cell_type": "code",
   "execution_count": null,
   "metadata": {},
   "outputs": [],
   "source": [
    "# # View the variations and their respective counts\n",
    "# assessment['messy column'].value_counts(dropna=False)"
   ]
  },
  {
   "cell_type": "code",
   "execution_count": null,
   "metadata": {},
   "outputs": [],
   "source": [
    "# # Trim whitespace and make lowercase for specific columns\n",
    "# assessment['messy column'] = assessment['messy column'].str.strip().str.replace(r'\\s+',' ').str.lower()\n",
    "# assessment['messy column'].value_counts(dropna=False)"
   ]
  },
  {
   "cell_type": "code",
   "execution_count": null,
   "metadata": {},
   "outputs": [],
   "source": [
    "# # Trim and collapse whitespace for ALL columns of dtype 'object' (i.e. strings)\n",
    "# text_cols = list(assessment.select_dtypes(include='object').columns)\n",
    "\n",
    "# assessment[text_cols] = assessment.select_dtypes(include='object').apply(lambda x: x.str.strip().str.replace(r'\\s+',' '))"
   ]
  }
 ],
 "metadata": {
  "celltoolbar": "Raw Cell Format",
  "kernelspec": {
   "display_name": "Python 3",
   "language": "python",
   "name": "python3"
  },
  "language_info": {
   "codemirror_mode": {
    "name": "ipython",
    "version": 3
   },
   "file_extension": ".py",
   "mimetype": "text/x-python",
   "name": "python",
   "nbconvert_exporter": "python",
   "pygments_lexer": "ipython3",
   "version": "3.7.3"
  }
 },
 "nbformat": 4,
 "nbformat_minor": 4
}

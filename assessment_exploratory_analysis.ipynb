{
 "cells": [
  {
   "cell_type": "markdown",
   "metadata": {},
   "source": [
    "# Collections Assessment Exploratory Analysis\n",
    "\n",
    "A notebook for exploratory analysis of archival collections assessment data using Pandas."
   ]
  },
  {
   "cell_type": "markdown",
   "metadata": {},
   "source": [
    "## Set up environment"
   ]
  },
  {
   "cell_type": "code",
   "execution_count": null,
   "metadata": {},
   "outputs": [],
   "source": [
    "# Set up environment\n",
    "import pandas as pd\n",
    "import numpy as np\n",
    "from pandas.api.types import CategoricalDtype\n",
    "%matplotlib inline"
   ]
  },
  {
   "cell_type": "markdown",
   "metadata": {},
   "source": [
    "## Load data and create DataFrame"
   ]
  },
  {
   "cell_type": "code",
   "execution_count": 28,
   "metadata": {},
   "outputs": [],
   "source": [
    "# Load CSV and create DataFrame. Modify file path and header argument as needed.\n",
    "file = 'data_raw/assessment_list_report.csv'\n",
    "assessment = pd.read_csv(file, header=3)"
   ]
  },
  {
   "cell_type": "markdown",
   "metadata": {},
   "source": [
    "Display first five rows of data to confirm DataFrame was created as expected."
   ]
  },
  {
   "cell_type": "code",
   "execution_count": 35,
   "metadata": {
    "scrolled": true
   },
   "outputs": [
    {
     "data": {
      "text/html": [
       "<div>\n",
       "<style scoped>\n",
       "    .dataframe tbody tr th:only-of-type {\n",
       "        vertical-align: middle;\n",
       "    }\n",
       "\n",
       "    .dataframe tbody tr th {\n",
       "        vertical-align: top;\n",
       "    }\n",
       "\n",
       "    .dataframe thead th {\n",
       "        text-align: right;\n",
       "    }\n",
       "</style>\n",
       "<table border=\"0\" class=\"dataframe\">\n",
       "  <thead>\n",
       "    <tr style=\"text-align: right;\">\n",
       "      <th></th>\n",
       "      <th>linked_records_record_id</th>\n",
       "      <th>linked_records_record_title</th>\n",
       "      <th>linked_records_identifier</th>\n",
       "      <th>id</th>\n",
       "      <th>accession_report</th>\n",
       "      <th>appraisal</th>\n",
       "      <th>container_list</th>\n",
       "      <th>catalog_record</th>\n",
       "      <th>control_file</th>\n",
       "      <th>deed_of_gift</th>\n",
       "      <th>...</th>\n",
       "      <th>physical_access_arrangement_rating</th>\n",
       "      <th>physical_access_arrangement_note</th>\n",
       "      <th>intellectual_access_description_rating</th>\n",
       "      <th>intellectual_access_description_note</th>\n",
       "      <th>interest_rating</th>\n",
       "      <th>interest_note</th>\n",
       "      <th>documentation_quality_rating</th>\n",
       "      <th>documentation_quality_note</th>\n",
       "      <th>research_value_rating</th>\n",
       "      <th>research_value_note</th>\n",
       "    </tr>\n",
       "  </thead>\n",
       "  <tbody>\n",
       "    <tr>\n",
       "      <th>0</th>\n",
       "      <td>resource_0001</td>\n",
       "      <td>Fake Collection 1</td>\n",
       "      <td>REPO.1990.001</td>\n",
       "      <td>10</td>\n",
       "      <td>Yes</td>\n",
       "      <td>No</td>\n",
       "      <td>Yes</td>\n",
       "      <td>No</td>\n",
       "      <td>Yes</td>\n",
       "      <td>Yes</td>\n",
       "      <td>...</td>\n",
       "      <td>5</td>\n",
       "      <td>NaN</td>\n",
       "      <td>2.0</td>\n",
       "      <td>NaN</td>\n",
       "      <td>3</td>\n",
       "      <td>NaN</td>\n",
       "      <td>5</td>\n",
       "      <td>NaN</td>\n",
       "      <td>8</td>\n",
       "      <td>NaN</td>\n",
       "    </tr>\n",
       "    <tr>\n",
       "      <th>1</th>\n",
       "      <td>resource_0002</td>\n",
       "      <td>Fake Collection 2</td>\n",
       "      <td>REPO.1990.002</td>\n",
       "      <td>11</td>\n",
       "      <td>Yes</td>\n",
       "      <td>No</td>\n",
       "      <td>Yes</td>\n",
       "      <td>No</td>\n",
       "      <td>Yes</td>\n",
       "      <td>Yes</td>\n",
       "      <td>...</td>\n",
       "      <td>3</td>\n",
       "      <td>NaN</td>\n",
       "      <td>3.0</td>\n",
       "      <td>NaN</td>\n",
       "      <td>3</td>\n",
       "      <td>NaN</td>\n",
       "      <td>5</td>\n",
       "      <td>NaN</td>\n",
       "      <td>8</td>\n",
       "      <td>NaN</td>\n",
       "    </tr>\n",
       "    <tr>\n",
       "      <th>2</th>\n",
       "      <td>resource_0003</td>\n",
       "      <td>Fake Collection 3</td>\n",
       "      <td>REPO.1990.003</td>\n",
       "      <td>12</td>\n",
       "      <td>Yes</td>\n",
       "      <td>No</td>\n",
       "      <td>Yes</td>\n",
       "      <td>No</td>\n",
       "      <td>Yes</td>\n",
       "      <td>Yes</td>\n",
       "      <td>...</td>\n",
       "      <td>2</td>\n",
       "      <td>NaN</td>\n",
       "      <td>4.0</td>\n",
       "      <td>NaN</td>\n",
       "      <td>4</td>\n",
       "      <td>NaN</td>\n",
       "      <td>2</td>\n",
       "      <td>A lot of published material/reporoductions</td>\n",
       "      <td>6</td>\n",
       "      <td>NaN</td>\n",
       "    </tr>\n",
       "    <tr>\n",
       "      <th>3</th>\n",
       "      <td>resource_0004</td>\n",
       "      <td>Fake Collection 4</td>\n",
       "      <td>REPO.1990.004</td>\n",
       "      <td>13</td>\n",
       "      <td>Yes</td>\n",
       "      <td>No</td>\n",
       "      <td>Yes</td>\n",
       "      <td>No</td>\n",
       "      <td>Yes</td>\n",
       "      <td>Yes</td>\n",
       "      <td>...</td>\n",
       "      <td>3</td>\n",
       "      <td>NaN</td>\n",
       "      <td>5.0</td>\n",
       "      <td>NaN</td>\n",
       "      <td>1</td>\n",
       "      <td>NaN</td>\n",
       "      <td>3</td>\n",
       "      <td>NaN</td>\n",
       "      <td>4</td>\n",
       "      <td>NaN</td>\n",
       "    </tr>\n",
       "    <tr>\n",
       "      <th>4</th>\n",
       "      <td>resource_0005</td>\n",
       "      <td>Fake Collection 5</td>\n",
       "      <td>REPO.1990.005</td>\n",
       "      <td>14</td>\n",
       "      <td>Yes</td>\n",
       "      <td>No</td>\n",
       "      <td>Yes</td>\n",
       "      <td>No</td>\n",
       "      <td>Yes</td>\n",
       "      <td>Yes</td>\n",
       "      <td>...</td>\n",
       "      <td>3</td>\n",
       "      <td>NaN</td>\n",
       "      <td>4.0</td>\n",
       "      <td>NaN</td>\n",
       "      <td>2</td>\n",
       "      <td>NaN</td>\n",
       "      <td>5</td>\n",
       "      <td>NaN</td>\n",
       "      <td>7</td>\n",
       "      <td>NaN</td>\n",
       "    </tr>\n",
       "  </tbody>\n",
       "</table>\n",
       "<p>5 rows × 75 columns</p>\n",
       "</div>"
      ],
      "text/plain": [
       "  linked_records_record_id linked_records_record_title  \\\n",
       "0            resource_0001           Fake Collection 1   \n",
       "1            resource_0002           Fake Collection 2   \n",
       "2            resource_0003           Fake Collection 3   \n",
       "3            resource_0004           Fake Collection 4   \n",
       "4            resource_0005           Fake Collection 5   \n",
       "\n",
       "  linked_records_identifier  id accession_report appraisal container_list  \\\n",
       "0             REPO.1990.001  10              Yes        No            Yes   \n",
       "1             REPO.1990.002  11              Yes        No            Yes   \n",
       "2             REPO.1990.003  12              Yes        No            Yes   \n",
       "3             REPO.1990.004  13              Yes        No            Yes   \n",
       "4             REPO.1990.005  14              Yes        No            Yes   \n",
       "\n",
       "  catalog_record control_file deed_of_gift  ...  \\\n",
       "0             No          Yes          Yes  ...   \n",
       "1             No          Yes          Yes  ...   \n",
       "2             No          Yes          Yes  ...   \n",
       "3             No          Yes          Yes  ...   \n",
       "4             No          Yes          Yes  ...   \n",
       "\n",
       "  physical_access_arrangement_rating physical_access_arrangement_note  \\\n",
       "0                                  5                              NaN   \n",
       "1                                  3                              NaN   \n",
       "2                                  2                              NaN   \n",
       "3                                  3                              NaN   \n",
       "4                                  3                              NaN   \n",
       "\n",
       "  intellectual_access_description_rating intellectual_access_description_note  \\\n",
       "0                                    2.0                                  NaN   \n",
       "1                                    3.0                                  NaN   \n",
       "2                                    4.0                                  NaN   \n",
       "3                                    5.0                                  NaN   \n",
       "4                                    4.0                                  NaN   \n",
       "\n",
       "  interest_rating interest_note documentation_quality_rating  \\\n",
       "0               3           NaN                            5   \n",
       "1               3           NaN                            5   \n",
       "2               4           NaN                            2   \n",
       "3               1           NaN                            3   \n",
       "4               2           NaN                            5   \n",
       "\n",
       "                   documentation_quality_note research_value_rating  \\\n",
       "0                                         NaN                     8   \n",
       "1                                         NaN                     8   \n",
       "2  A lot of published material/reporoductions                     6   \n",
       "3                                         NaN                     4   \n",
       "4                                         NaN                     7   \n",
       "\n",
       "  research_value_note  \n",
       "0                 NaN  \n",
       "1                 NaN  \n",
       "2                 NaN  \n",
       "3                 NaN  \n",
       "4                 NaN  \n",
       "\n",
       "[5 rows x 75 columns]"
      ]
     },
     "execution_count": 35,
     "metadata": {},
     "output_type": "execute_result"
    }
   ],
   "source": [
    "# Display first five rows.\n",
    "assessment.head()"
   ]
  },
  {
   "cell_type": "markdown",
   "metadata": {},
   "source": [
    "Check the shape of the DataFrame to see the number of rows and columns. Each row represents an assessment record for a single resource (or accession, etc.)."
   ]
  },
  {
   "cell_type": "code",
   "execution_count": 5,
   "metadata": {},
   "outputs": [
    {
     "data": {
      "text/plain": [
       "(300, 75)"
      ]
     },
     "execution_count": 5,
     "metadata": {},
     "output_type": "execute_result"
    }
   ],
   "source": [
    "# Check the shape of the DataFrame (rows x columns)\n",
    "assessment.shape"
   ]
  },
  {
   "cell_type": "markdown",
   "metadata": {},
   "source": [
    "## Clean and prepare the data"
   ]
  },
  {
   "cell_type": "markdown",
   "metadata": {},
   "source": [
    "### Drop empty and irrelevant columns"
   ]
  },
  {
   "cell_type": "markdown",
   "metadata": {},
   "source": [
    "Several fields in the fake assessment data contain no information (i.e., are nulls)."
   ]
  },
  {
   "cell_type": "code",
   "execution_count": 46,
   "metadata": {},
   "outputs": [
    {
     "name": "stdout",
     "output_type": "stream",
     "text": [
      "<class 'pandas.core.frame.DataFrame'>\n",
      "RangeIndex: 300 entries, 0 to 299\n",
      "Data columns (total 75 columns):\n",
      "linked_records_record_id                  300 non-null object\n",
      "linked_records_record_title               300 non-null object\n",
      "linked_records_identifier                 300 non-null object\n",
      "id                                        300 non-null int64\n",
      "accession_report                          300 non-null object\n",
      "appraisal                                 300 non-null object\n",
      "container_list                            300 non-null object\n",
      "catalog_record                            300 non-null object\n",
      "control_file                              300 non-null object\n",
      "deed_of_gift                              300 non-null object\n",
      "finding_aid_ead                           300 non-null object\n",
      "finding_aid_online                        300 non-null object\n",
      "finding_aid_paper                         300 non-null object\n",
      "finding_aid_word                          300 non-null object\n",
      "finding_aid_spreadsheet                   300 non-null object\n",
      "related_eac_records                       300 non-null object\n",
      "surveyed_by                               300 non-null object\n",
      "survey_begin                              300 non-null object\n",
      "survey_end                                300 non-null object\n",
      "surveyed_duration                         300 non-null object\n",
      "surveyed_extent                           300 non-null float64\n",
      "review_required                           300 non-null object\n",
      "reviewer                                  0 non-null float64\n",
      "inactive                                  300 non-null object\n",
      "sensitive_material                        300 non-null object\n",
      "purpose                                   300 non-null object\n",
      "scope                                     300 non-null float64\n",
      "general_assessment_note                   22 non-null object\n",
      "exhibition_value_note                     0 non-null float64\n",
      "existing_description_notes                4 non-null object\n",
      "review_note                               0 non-null float64\n",
      "monetary_value                            1 non-null object\n",
      "monetary_value_note                       1 non-null object\n",
      "special_format_note                       4 non-null object\n",
      "conservation_note                         6 non-null object\n",
      "architectural_materials                   3 non-null object\n",
      "art_originals                             28 non-null object\n",
      "artifacts                                 2 non-null object\n",
      "audio_materials                           135 non-null object\n",
      "biological_specimens                      55 non-null object\n",
      "botanical_specimens                       1 non-null object\n",
      "computer_storage_units                    63 non-null object\n",
      "film_negative_slide_or_motion_picture     27 non-null object\n",
      "glass                                     27 non-null object\n",
      "photographs                               37 non-null object\n",
      "scrapbooks                                14 non-null object\n",
      "technical_drawings_schematics             3 non-null object\n",
      "textiles                                  2 non-null object\n",
      "vellum_parchment                          0 non-null float64\n",
      "video_materials                           27 non-null object\n",
      "potential_mold_or_mold_damage             28 non-null object\n",
      "recent_pest_damage                        1 non-null object\n",
      "deteriorating_film_base                   61 non-null object\n",
      "brittle_paper                             55 non-null object\n",
      "metal_fasteners                           41 non-null object\n",
      "newspaper                                 25 non-null object\n",
      "tape                                      49 non-null object\n",
      "heat_sensitive_paper                      2 non-null object\n",
      "water_damage                              4 non-null object\n",
      "reformatting_readiness_rating             0 non-null float64\n",
      "reformatting_readiness_note               0 non-null float64\n",
      "housing_quality_rating                    300 non-null int64\n",
      "housing_quality_note                      21 non-null object\n",
      "physical_condition_rating                 300 non-null int64\n",
      "physical_condition_note                   0 non-null float64\n",
      "physical_access_arrangement_rating        300 non-null int64\n",
      "physical_access_arrangement_note          0 non-null float64\n",
      "intellectual_access_description_rating    162 non-null float64\n",
      "intellectual_access_description_note      0 non-null float64\n",
      "interest_rating                           300 non-null int64\n",
      "interest_note                             0 non-null float64\n",
      "documentation_quality_rating              300 non-null int64\n",
      "documentation_quality_note                8 non-null object\n",
      "research_value_rating                     300 non-null int64\n",
      "research_value_note                       0 non-null float64\n",
      "dtypes: float64(14), int64(7), object(54)\n",
      "memory usage: 175.9+ KB\n"
     ]
    }
   ],
   "source": [
    "# View null counts and dtypes for all columns\n",
    "assessment.info()"
   ]
  },
  {
   "cell_type": "markdown",
   "metadata": {},
   "source": [
    "Remove all the empty columns (i.e., columns containing only NAs/missing values)."
   ]
  },
  {
   "cell_type": "code",
   "execution_count": 7,
   "metadata": {},
   "outputs": [
    {
     "data": {
      "text/plain": [
       "(300, 64)"
      ]
     },
     "execution_count": 7,
     "metadata": {},
     "output_type": "execute_result"
    }
   ],
   "source": [
    "# Drop empty columns\n",
    "assessment.dropna(how='all', inplace=True, axis=1)\n",
    "assessment.shape"
   ]
  },
  {
   "cell_type": "markdown",
   "metadata": {},
   "source": [
    "If there other columns irrelevant to the analysis, remove those as well using a list of the columns that should be removed."
   ]
  },
  {
   "cell_type": "code",
   "execution_count": 8,
   "metadata": {},
   "outputs": [
    {
     "data": {
      "text/plain": [
       "(300, 49)"
      ]
     },
     "execution_count": 8,
     "metadata": {},
     "output_type": "execute_result"
    }
   ],
   "source": [
    "# Remove irrelevant columns. Modify list of columns as needed.\n",
    "to_drop = ['appraisal', \n",
    "           'catalog_record', \n",
    "           'finding_aid_online', \n",
    "           'finding_aid_word', \n",
    "           'finding_aid_spreadsheet', \n",
    "           'related_eac_records', \n",
    "           'architectural_materials', \n",
    "           'art_originals', \n",
    "           'artifacts', \n",
    "           'biological_specimens', \n",
    "           'botanical_specimens', \n",
    "           'glass', \n",
    "           'technical_drawings_schematics', \n",
    "           'textiles', \n",
    "           'heat_sensitive_paper']\n",
    "\n",
    "assessment.drop(to_drop, inplace=True, axis=1)\n",
    "\n",
    "assessment.shape"
   ]
  },
  {
   "cell_type": "markdown",
   "metadata": {},
   "source": [
    "### Rename columns as needed"
   ]
  },
  {
   "cell_type": "markdown",
   "metadata": {},
   "source": [
    "In this example report, the *surveyed_extent* column was used to record the size of the assessed collection in linear feet. However, there is no indication of the units of measurement in the metadata. \n",
    "\n",
    "In this example case, imagine you know the units because they are documented elsewhere, like a separate data collection procedures document or data dictionary. (Or perhaps in a less ideal place like an email thread or in someone's head.)"
   ]
  },
  {
   "cell_type": "code",
   "execution_count": 9,
   "metadata": {},
   "outputs": [
    {
     "data": {
      "text/plain": [
       "0     50.0\n",
       "1    128.0\n",
       "2    148.0\n",
       "3     42.0\n",
       "4    197.0\n",
       "Name: surveyed_extent, dtype: float64"
      ]
     },
     "execution_count": 9,
     "metadata": {},
     "output_type": "execute_result"
    }
   ],
   "source": [
    "assessment['surveyed_extent'].head()"
   ]
  },
  {
   "cell_type": "markdown",
   "metadata": {},
   "source": [
    "There's also a column with the cumbersome name *computer_storage_units*. Rename the *surveyed_extent* column to include the units of measurement (i.e. linear feet), and rename *computer_storage_units* to the easier-to-read *born_digital*."
   ]
  },
  {
   "cell_type": "code",
   "execution_count": 10,
   "metadata": {},
   "outputs": [
    {
     "data": {
      "text/html": [
       "<div>\n",
       "<style scoped>\n",
       "    .dataframe tbody tr th:only-of-type {\n",
       "        vertical-align: middle;\n",
       "    }\n",
       "\n",
       "    .dataframe tbody tr th {\n",
       "        vertical-align: top;\n",
       "    }\n",
       "\n",
       "    .dataframe thead th {\n",
       "        text-align: right;\n",
       "    }\n",
       "</style>\n",
       "<table border=\"1\" class=\"dataframe\">\n",
       "  <thead>\n",
       "    <tr style=\"text-align: right;\">\n",
       "      <th></th>\n",
       "      <th>surveyed_extent_lf</th>\n",
       "      <th>born_digital</th>\n",
       "    </tr>\n",
       "  </thead>\n",
       "  <tbody>\n",
       "    <tr>\n",
       "      <th>0</th>\n",
       "      <td>50.0</td>\n",
       "      <td>Yes</td>\n",
       "    </tr>\n",
       "    <tr>\n",
       "      <th>1</th>\n",
       "      <td>128.0</td>\n",
       "      <td>NaN</td>\n",
       "    </tr>\n",
       "    <tr>\n",
       "      <th>2</th>\n",
       "      <td>148.0</td>\n",
       "      <td>NaN</td>\n",
       "    </tr>\n",
       "    <tr>\n",
       "      <th>3</th>\n",
       "      <td>42.0</td>\n",
       "      <td>NaN</td>\n",
       "    </tr>\n",
       "    <tr>\n",
       "      <th>4</th>\n",
       "      <td>197.0</td>\n",
       "      <td>NaN</td>\n",
       "    </tr>\n",
       "  </tbody>\n",
       "</table>\n",
       "</div>"
      ],
      "text/plain": [
       "   surveyed_extent_lf born_digital\n",
       "0                50.0          Yes\n",
       "1               128.0          NaN\n",
       "2               148.0          NaN\n",
       "3                42.0          NaN\n",
       "4               197.0          NaN"
      ]
     },
     "execution_count": 10,
     "metadata": {},
     "output_type": "execute_result"
    }
   ],
   "source": [
    "# Rename surveyed_extent and computer_storage_units columns\n",
    "new_names = {'surveyed_extent' : 'surveyed_extent_lf', 'computer_storage_units' : 'born_digital'}\n",
    "assessment.rename(columns=new_names, inplace=True)\n",
    "\n",
    "assessment[['surveyed_extent_lf', 'born_digital']].head()"
   ]
  },
  {
   "cell_type": "markdown",
   "metadata": {},
   "source": [
    "### Clean/standardize the data\n",
    "\n",
    "Free text fields probably have variations that should be standardized."
   ]
  },
  {
   "cell_type": "code",
   "execution_count": 11,
   "metadata": {
    "scrolled": true
   },
   "outputs": [
    {
     "data": {
      "text/plain": [
       "Assessment Pilot      104\n",
       "Reformatting prep      81\n",
       "Assessment pilot       51\n",
       "assessment Pilot       41\n",
       "Reformatting  prep     15\n",
       "assesment pilot         5\n",
       "Assessment  Pilot       2\n",
       "assessment   pilot      1\n",
       "Name: purpose, dtype: int64"
      ]
     },
     "execution_count": 11,
     "metadata": {},
     "output_type": "execute_result"
    }
   ],
   "source": [
    "# View the variations and their respective counts\n",
    "assessment['purpose'].value_counts(dropna=False)"
   ]
  },
  {
   "cell_type": "code",
   "execution_count": 12,
   "metadata": {},
   "outputs": [
    {
     "data": {
      "text/plain": [
       "assessment pilot     199\n",
       "reformatting prep     96\n",
       "assesment pilot        5\n",
       "Name: purpose, dtype: int64"
      ]
     },
     "execution_count": 12,
     "metadata": {},
     "output_type": "execute_result"
    }
   ],
   "source": [
    "# Trim whitespace and make lowercase\n",
    "assessment['purpose'] = assessment['purpose'].str.strip().str.replace(r'\\s+',' ').str.lower()\n",
    "assessment['purpose'].value_counts(dropna=False)"
   ]
  },
  {
   "cell_type": "markdown",
   "metadata": {},
   "source": [
    "Simple spelling errors can be corrected with a simple `replace()`. (Of course, more complex spelling errors will require special attention.)"
   ]
  },
  {
   "cell_type": "code",
   "execution_count": 13,
   "metadata": {},
   "outputs": [
    {
     "data": {
      "text/plain": [
       "assessment pilot     204\n",
       "reformatting prep     96\n",
       "Name: purpose, dtype: int64"
      ]
     },
     "execution_count": 13,
     "metadata": {},
     "output_type": "execute_result"
    }
   ],
   "source": [
    "# Correct spelling error\n",
    "assessment['purpose'] = assessment['purpose'].str.replace('assesment', 'assessment')\n",
    "assessment['purpose'].value_counts(dropna=False)"
   ]
  },
  {
   "cell_type": "markdown",
   "metadata": {},
   "source": [
    "### Convert ratings values to categoricals\n",
    "\n",
    "Ratings values (e.g. 1,2,3,4,5) initially get interpreted as *int64* or *float64* dtypes, even though they are actually categories. "
   ]
  },
  {
   "cell_type": "code",
   "execution_count": 14,
   "metadata": {
    "scrolled": false
   },
   "outputs": [
    {
     "data": {
      "text/plain": [
       "dtype('int64')"
      ]
     },
     "execution_count": 14,
     "metadata": {},
     "output_type": "execute_result"
    }
   ],
   "source": [
    "# View dtype for physical_condition_rating\n",
    "assessment['physical_condition_rating'].dtype"
   ]
  },
  {
   "cell_type": "markdown",
   "metadata": {},
   "source": [
    "This will result in those columns being treated like numerical variables in descriptive statistics, as happens when using `describe()` on physical_condition_rating. That is, the statistics won't be very meaningful as they treat the ratings values (1,2,3,4,5) as numbers rather than categories."
   ]
  },
  {
   "cell_type": "code",
   "execution_count": 15,
   "metadata": {
    "scrolled": true
   },
   "outputs": [
    {
     "data": {
      "text/plain": [
       "count    300.000000\n",
       "mean       2.733333\n",
       "std        1.369357\n",
       "min        1.000000\n",
       "25%        1.750000\n",
       "50%        3.000000\n",
       "75%        4.000000\n",
       "max        5.000000\n",
       "Name: physical_condition_rating, dtype: float64"
      ]
     },
     "execution_count": 15,
     "metadata": {},
     "output_type": "execute_result"
    }
   ],
   "source": [
    "# View non-meaningful descriptive stats for housing_quality_rating\n",
    "assessment['physical_condition_rating'].describe()"
   ]
  },
  {
   "cell_type": "markdown",
   "metadata": {},
   "source": [
    "To treat them as categorical variables, convert the ratings to categorical dtypes. Since the order of the ratings is meaningful (on a scale of 1 to 5, with 1 for \"very poor\" and 5 for \"excellent\"), set the `ordered` parameter to **True**."
   ]
  },
  {
   "cell_type": "code",
   "execution_count": 16,
   "metadata": {
    "scrolled": true
   },
   "outputs": [
    {
     "data": {
      "text/plain": [
       "CategoricalDtype(categories=[1, 2, 3, 4, 5], ordered=True)"
      ]
     },
     "execution_count": 16,
     "metadata": {},
     "output_type": "execute_result"
    }
   ],
   "source": [
    "# Create list of column names for all ratings variables\n",
    "ratings_names = list(assessment.columns[(assessment.columns.str.endswith('rating') == True)])\n",
    "\n",
    "# Research value is on different scale (2-10), so treat it seperately\n",
    "ratings_names.remove('research_value_rating')\n",
    "\n",
    "# Convert the ratings (on scale of 1-5) to categorical dtypes\n",
    "for name in ratings_names:\n",
    "        assessment[name] = assessment[name].astype(CategoricalDtype(ordered=True))\n",
    "\n",
    "assessment['research_value_rating'] = assessment['research_value_rating'].astype(CategoricalDtype(ordered=True))\n",
    "\n",
    "# Reset ratings categories to int64 dtype instead of float64\n",
    "for name in ratings_names:\n",
    "    assessment[name] = assessment[name].cat.rename_categories([1,2,3,4,5])\n",
    "\n",
    "assessment['research_value_rating'] = assessment['research_value_rating'].cat.rename_categories([2,3,4,5,6,7,8,9,10])\n",
    "\n",
    "# View new dtype for physical_condition_rating\n",
    "assessment['physical_condition_rating'].dtype"
   ]
  },
  {
   "cell_type": "markdown",
   "metadata": {},
   "source": [
    "It might be useful to give the categories more meaningful labels. If they are all on the same scale, rename them all with the same labels."
   ]
  },
  {
   "cell_type": "code",
   "execution_count": 17,
   "metadata": {
    "scrolled": false
   },
   "outputs": [
    {
     "data": {
      "text/plain": [
       "CategoricalDtype(categories=['1: very poor', '2: poor', '3: good', '4: very good',\n",
       "                  '5: excellent'],\n",
       "                 ordered=True)"
      ]
     },
     "execution_count": 17,
     "metadata": {},
     "output_type": "execute_result"
    }
   ],
   "source": [
    "# Rename ratings categories with more meaningful labels\n",
    "new_cats = {1: '1: very poor', 2: '2: poor', 3: '3: good', 4: '4: very good', 5: '5: excellent'}\n",
    "for name in ratings_names:\n",
    "        assessment[name] = assessment[name].cat.rename_categories(new_cats)\n",
    "\n",
    "# View new category names for physical_condition_rating\n",
    "assessment['physical_condition_rating'].dtype"
   ]
  },
  {
   "cell_type": "markdown",
   "metadata": {},
   "source": [
    "Now the summary returned by `describe()` will be more meaningful."
   ]
  },
  {
   "cell_type": "code",
   "execution_count": 18,
   "metadata": {},
   "outputs": [
    {
     "data": {
      "text/plain": [
       "count         300\n",
       "unique          5\n",
       "top       3: good\n",
       "freq           78\n",
       "Name: physical_condition_rating, dtype: object"
      ]
     },
     "execution_count": 18,
     "metadata": {},
     "output_type": "execute_result"
    }
   ],
   "source": [
    "# View descriptive stats for new physical_condition_rating\n",
    "assessment['physical_condition_rating'].describe()"
   ]
  },
  {
   "cell_type": "markdown",
   "metadata": {},
   "source": [
    "## Summarize data for key variables"
   ]
  },
  {
   "cell_type": "markdown",
   "metadata": {},
   "source": [
    "### How are the collection survey sizes distributed?"
   ]
  },
  {
   "cell_type": "markdown",
   "metadata": {},
   "source": [
    "View a summary of extents data to see the distribution of collection survey sizes (in this case, in linear feet)."
   ]
  },
  {
   "cell_type": "code",
   "execution_count": 19,
   "metadata": {},
   "outputs": [
    {
     "data": {
      "text/plain": [
       "count    300.000000\n",
       "mean     122.652500\n",
       "std       96.957075\n",
       "min        0.960000\n",
       "25%       35.362500\n",
       "50%       96.750000\n",
       "75%      194.750000\n",
       "max      625.000000\n",
       "Name: surveyed_extent_lf, dtype: float64"
      ]
     },
     "execution_count": 19,
     "metadata": {},
     "output_type": "execute_result"
    }
   ],
   "source": [
    "# View summary of surveyed_extents_lf\n",
    "assessment['surveyed_extent_lf'].describe()"
   ]
  },
  {
   "cell_type": "markdown",
   "metadata": {},
   "source": [
    "Most are under 200 linear feet. But what is the outlier? To get a better sense of the distribution of the sizes, create a box plot and call out the largest collection."
   ]
  },
  {
   "cell_type": "code",
   "execution_count": 25,
   "metadata": {},
   "outputs": [
    {
     "data": {
      "text/plain": [
       "Text(1.03, 575.0, 'Fake Collection 66\\n(625.0 linear feet)')"
      ]
     },
     "execution_count": 25,
     "metadata": {},
     "output_type": "execute_result"
    },
    {
     "data": {
      "image/png": "[encoded data removed]",
      "text/plain": [
       "<Figure size 288x576 with 1 Axes>"
      ]
     },
     "metadata": {
      "needs_background": "light"
     },
     "output_type": "display_data"
    }
   ],
   "source": [
    "# Create box plot for surveyed_extents_lf\n",
    "outlier = assessment.sort_values(by='surveyed_extent_lf', ascending=False).reset_index()\n",
    "extent_max = assessment['surveyed_extent_lf'].max()\n",
    "title_max = outlier.loc[0, 'linked_records_record_title']\n",
    "annotation = f'{title_max}\\n({extent_max} linear feet)'\n",
    "assessment['surveyed_extent_lf'].plot.box(title='Surveyed Extents', figsize=(4, 8)).annotate(annotation, (1.03, extent_max-50))"
   ]
  },
  {
   "cell_type": "markdown",
   "metadata": {},
   "source": [
    "### How much material needs to be reformatted?"
   ]
  },
  {
   "cell_type": "markdown",
   "metadata": {},
   "source": [
    "Let's say you want more information to help plan some reformatting projects, such as how much stuff you need to reformat."
   ]
  },
  {
   "cell_type": "code",
   "execution_count": 21,
   "metadata": {},
   "outputs": [
    {
     "name": "stdout",
     "output_type": "stream",
     "text": [
      "11128.48 linear feet of material was assessed for reformatting.\n"
     ]
    }
   ],
   "source": [
    "# Total surveyed_extent_lf for reformatting_prep\n",
    "reformat_extent = assessment.groupby('purpose').get_group('reformatting prep')['surveyed_extent_lf'].sum()\n",
    "print(f'{reformat_extent} linear feet of material was assessed for reformatting.')"
   ]
  },
  {
   "cell_type": "markdown",
   "metadata": {},
   "source": [
    "### What kind of condition are these collections in?"
   ]
  },
  {
   "cell_type": "markdown",
   "metadata": {},
   "source": [
    "Since it is more expensive and time-consuming to reformat materials that are fragile or in poor physical condition, it would also be good to know the condition of the collections to be reformatted."
   ]
  },
  {
   "cell_type": "code",
   "execution_count": 22,
   "metadata": {},
   "outputs": [
    {
     "data": {
      "text/html": [
       "<div>\n",
       "<style scoped>\n",
       "    .dataframe tbody tr th:only-of-type {\n",
       "        vertical-align: middle;\n",
       "    }\n",
       "\n",
       "    .dataframe tbody tr th {\n",
       "        vertical-align: top;\n",
       "    }\n",
       "\n",
       "    .dataframe thead th {\n",
       "        text-align: right;\n",
       "    }\n",
       "</style>\n",
       "<table border=\"1\" class=\"dataframe\">\n",
       "  <thead>\n",
       "    <tr style=\"text-align: right;\">\n",
       "      <th>physical_condition_rating</th>\n",
       "      <th>1: very poor</th>\n",
       "      <th>2: poor</th>\n",
       "      <th>3: good</th>\n",
       "      <th>4: very good</th>\n",
       "      <th>5: excellent</th>\n",
       "    </tr>\n",
       "    <tr>\n",
       "      <th>purpose</th>\n",
       "      <th></th>\n",
       "      <th></th>\n",
       "      <th></th>\n",
       "      <th></th>\n",
       "      <th></th>\n",
       "    </tr>\n",
       "  </thead>\n",
       "  <tbody>\n",
       "    <tr>\n",
       "      <th>reformatting prep</th>\n",
       "      <td>2179.86</td>\n",
       "      <td>2986.62</td>\n",
       "      <td>2416.0</td>\n",
       "      <td>1555.0</td>\n",
       "      <td>1991.0</td>\n",
       "    </tr>\n",
       "  </tbody>\n",
       "</table>\n",
       "</div>"
      ],
      "text/plain": [
       "physical_condition_rating  1: very poor  2: poor  3: good  4: very good  \\\n",
       "purpose                                                                   \n",
       "reformatting prep               2179.86  2986.62   2416.0        1555.0   \n",
       "\n",
       "physical_condition_rating  5: excellent  \n",
       "purpose                                  \n",
       "reformatting prep                1991.0  "
      ]
     },
     "execution_count": 22,
     "metadata": {},
     "output_type": "execute_result"
    }
   ],
   "source": [
    "# Create pivot table-like view of physical_condition_rating, in cubic feet\n",
    "reformat = assessment.groupby('purpose').get_group('reformatting prep')\n",
    "\n",
    "reformat_table = pd.pivot_table(reformat, values='surveyed_extent_lf', index='purpose', \n",
    "               columns='physical_condition_rating', aggfunc='sum', \n",
    "               fill_value='not used', dropna=False)\n",
    "\n",
    "reformat_table"
   ]
  },
  {
   "cell_type": "markdown",
   "metadata": {},
   "source": [
    "And it will be easier to get a sense of the distribution with a simple chart. In this case, the volume of material in **poor condition** stands out (nearly 3,000 linear feet!), which may be a valuable insight if you are planning a reformatting project and need to budget for things like conservation treatment and special digitization services."
   ]
  },
  {
   "cell_type": "code",
   "execution_count": 23,
   "metadata": {},
   "outputs": [
    {
     "data": {
      "text/plain": [
       "<matplotlib.axes._subplots.AxesSubplot at 0x7fdd2edf27b8>"
      ]
     },
     "execution_count": 23,
     "metadata": {},
     "output_type": "execute_result"
    },
    {
     "data": {
      "image/png": "[encoded data removed]",
      "text/plain": [
       "<Figure size 720x432 with 1 Axes>"
      ]
     },
     "metadata": {
      "needs_background": "light"
     },
     "output_type": "display_data"
    }
   ],
   "source": [
    "reformat_table.plot.barh(title='Condtion of Collections\\nto be Reformatted', figsize=(10, 6))"
   ]
  },
  {
   "cell_type": "markdown",
   "metadata": {},
   "source": [
    "### What are the major at-risk formats in the surveyed collections?"
   ]
  },
  {
   "cell_type": "markdown",
   "metadata": {},
   "source": [
    "These pivot table-like views can be especially useful for counting totals for multiple physical formats. Calculate the totals for some potentially unstable or at-risk formats..."
   ]
  },
  {
   "cell_type": "code",
   "execution_count": 25,
   "metadata": {
    "scrolled": true
   },
   "outputs": [
    {
     "data": {
      "text/html": [
       "<div>\n",
       "<style scoped>\n",
       "    .dataframe tbody tr th:only-of-type {\n",
       "        vertical-align: middle;\n",
       "    }\n",
       "\n",
       "    .dataframe tbody tr th {\n",
       "        vertical-align: top;\n",
       "    }\n",
       "\n",
       "    .dataframe thead th {\n",
       "        text-align: right;\n",
       "    }\n",
       "</style>\n",
       "<table border=\"1\" class=\"dataframe\">\n",
       "  <thead>\n",
       "    <tr style=\"text-align: right;\">\n",
       "      <th></th>\n",
       "      <th>audio_materials</th>\n",
       "      <th>born_digital</th>\n",
       "      <th>photographs</th>\n",
       "      <th>scrapbooks</th>\n",
       "      <th>video_materials</th>\n",
       "      <th>All</th>\n",
       "    </tr>\n",
       "    <tr>\n",
       "      <th>purpose</th>\n",
       "      <th></th>\n",
       "      <th></th>\n",
       "      <th></th>\n",
       "      <th></th>\n",
       "      <th></th>\n",
       "      <th></th>\n",
       "    </tr>\n",
       "  </thead>\n",
       "  <tbody>\n",
       "    <tr>\n",
       "      <th>assessment pilot</th>\n",
       "      <td>87</td>\n",
       "      <td>36</td>\n",
       "      <td>27</td>\n",
       "      <td>2</td>\n",
       "      <td>17</td>\n",
       "      <td>169</td>\n",
       "    </tr>\n",
       "    <tr>\n",
       "      <th>reformatting prep</th>\n",
       "      <td>48</td>\n",
       "      <td>27</td>\n",
       "      <td>10</td>\n",
       "      <td>12</td>\n",
       "      <td>10</td>\n",
       "      <td>107</td>\n",
       "    </tr>\n",
       "    <tr>\n",
       "      <th>All</th>\n",
       "      <td>135</td>\n",
       "      <td>63</td>\n",
       "      <td>37</td>\n",
       "      <td>14</td>\n",
       "      <td>27</td>\n",
       "      <td>276</td>\n",
       "    </tr>\n",
       "  </tbody>\n",
       "</table>\n",
       "</div>"
      ],
      "text/plain": [
       "                   audio_materials  born_digital  photographs  scrapbooks  \\\n",
       "purpose                                                                     \n",
       "assessment pilot                87            36           27           2   \n",
       "reformatting prep               48            27           10          12   \n",
       "All                            135            63           37          14   \n",
       "\n",
       "                   video_materials  All  \n",
       "purpose                                  \n",
       "assessment pilot                17  169  \n",
       "reformatting prep               10  107  \n",
       "All                             27  276  "
      ]
     },
     "execution_count": 25,
     "metadata": {},
     "output_type": "execute_result"
    }
   ],
   "source": [
    "# Create pivot table-like views of counts for multiple formats\n",
    "formats = ['audio_materials',\n",
    "           'born_digital', \n",
    "           'photographs', \n",
    "           'scrapbooks', \n",
    "           'video_materials']\n",
    "\n",
    "formats_table = pd.pivot_table(assessment, values=formats, index='purpose', \n",
    "                               aggfunc='count', margins=True, dropna=False)\n",
    "\n",
    "formats_table = formats_table.assign(All=formats_table.apply(np.sum, axis = 1).astype('int'))\n",
    "\n",
    "formats_table"
   ]
  },
  {
   "cell_type": "markdown",
   "metadata": {},
   "source": [
    "...and plot counts for these formats. In this case, the volume of audio materials stands out. This can be valuable information, as much archival sound recordings are on magnetic media, and [a lot can go wrong](https://www.clir.org/pubs/reports/pub54/2what_wrong/) \n",
    "with magnetic media. (Keep in mind these are counts of collections, **not** counts of individual recordings. See the note on limitations to the counts data below.)"
   ]
  },
  {
   "cell_type": "code",
   "execution_count": 26,
   "metadata": {},
   "outputs": [
    {
     "data": {
      "text/plain": [
       "<matplotlib.axes._subplots.AxesSubplot at 0x7fc5a2964978>"
      ]
     },
     "execution_count": 26,
     "metadata": {},
     "output_type": "execute_result"
    },
    {
     "data": {
      "image/png": "[encoded data removed]",
      "text/plain": [
       "<Figure size 720x432 with 1 Axes>"
      ]
     },
     "metadata": {
      "needs_background": "light"
     },
     "output_type": "display_data"
    }
   ],
   "source": [
    "# Plot counts for multiple physical formats\n",
    "formats_table[formats].plot.barh(title='Special Formats', figsize=(10, 6))"
   ]
  },
  {
   "cell_type": "markdown",
   "metadata": {},
   "source": [
    "## Filtering data"
   ]
  },
  {
   "cell_type": "markdown",
   "metadata": {},
   "source": [
    "### Which collections contain specific formats?"
   ]
  },
  {
   "cell_type": "markdown",
   "metadata": {},
   "source": [
    "Select the rows for all collections that have materials from a \"special format\" list, and which were assessed for the purpose of preparing for reformatting. "
   ]
  },
  {
   "cell_type": "code",
   "execution_count": 27,
   "metadata": {},
   "outputs": [
    {
     "data": {
      "text/html": [
       "<div>\n",
       "<style scoped>\n",
       "    .dataframe tbody tr th:only-of-type {\n",
       "        vertical-align: middle;\n",
       "    }\n",
       "\n",
       "    .dataframe tbody tr th {\n",
       "        vertical-align: top;\n",
       "    }\n",
       "\n",
       "    .dataframe thead th {\n",
       "        text-align: right;\n",
       "    }\n",
       "</style>\n",
       "<table border=\"1\" class=\"dataframe\">\n",
       "  <thead>\n",
       "    <tr style=\"text-align: right;\">\n",
       "      <th></th>\n",
       "      <th>linked_records_record_id</th>\n",
       "      <th>linked_records_record_title</th>\n",
       "      <th>surveyed_extent_lf</th>\n",
       "      <th>housing_quality_rating</th>\n",
       "      <th>physical_condition_rating</th>\n",
       "      <th>physical_access_arrangement_rating</th>\n",
       "      <th>intellectual_access_description_rating</th>\n",
       "      <th>interest_rating</th>\n",
       "      <th>documentation_quality_rating</th>\n",
       "    </tr>\n",
       "  </thead>\n",
       "  <tbody>\n",
       "    <tr>\n",
       "      <th>6</th>\n",
       "      <td>resource_0007</td>\n",
       "      <td>Fake Collection 7</td>\n",
       "      <td>169.0</td>\n",
       "      <td>3: good</td>\n",
       "      <td>1: very poor</td>\n",
       "      <td>5: excellent</td>\n",
       "      <td>1: very poor</td>\n",
       "      <td>1: very poor</td>\n",
       "      <td>1: very poor</td>\n",
       "    </tr>\n",
       "    <tr>\n",
       "      <th>7</th>\n",
       "      <td>resource_0008</td>\n",
       "      <td>Fake Collection 8</td>\n",
       "      <td>113.0</td>\n",
       "      <td>1: very poor</td>\n",
       "      <td>5: excellent</td>\n",
       "      <td>1: very poor</td>\n",
       "      <td>3: good</td>\n",
       "      <td>1: very poor</td>\n",
       "      <td>5: excellent</td>\n",
       "    </tr>\n",
       "    <tr>\n",
       "      <th>8</th>\n",
       "      <td>resource_0009</td>\n",
       "      <td>Fake Collection 9</td>\n",
       "      <td>252.0</td>\n",
       "      <td>1: very poor</td>\n",
       "      <td>4: very good</td>\n",
       "      <td>1: very poor</td>\n",
       "      <td>4: very good</td>\n",
       "      <td>3: good</td>\n",
       "      <td>1: very poor</td>\n",
       "    </tr>\n",
       "    <tr>\n",
       "      <th>9</th>\n",
       "      <td>resource_0010</td>\n",
       "      <td>Fake Collection 10</td>\n",
       "      <td>68.0</td>\n",
       "      <td>3: good</td>\n",
       "      <td>3: good</td>\n",
       "      <td>4: very good</td>\n",
       "      <td>5: excellent</td>\n",
       "      <td>5: excellent</td>\n",
       "      <td>5: excellent</td>\n",
       "    </tr>\n",
       "    <tr>\n",
       "      <th>27</th>\n",
       "      <td>resource_0028</td>\n",
       "      <td>Fake Collection 28</td>\n",
       "      <td>189.0</td>\n",
       "      <td>1: very poor</td>\n",
       "      <td>5: excellent</td>\n",
       "      <td>4: very good</td>\n",
       "      <td>4: very good</td>\n",
       "      <td>5: excellent</td>\n",
       "      <td>4: very good</td>\n",
       "    </tr>\n",
       "  </tbody>\n",
       "</table>\n",
       "</div>"
      ],
      "text/plain": [
       "   linked_records_record_id linked_records_record_title  surveyed_extent_lf  \\\n",
       "6             resource_0007           Fake Collection 7               169.0   \n",
       "7             resource_0008           Fake Collection 8               113.0   \n",
       "8             resource_0009           Fake Collection 9               252.0   \n",
       "9             resource_0010          Fake Collection 10                68.0   \n",
       "27            resource_0028          Fake Collection 28               189.0   \n",
       "\n",
       "   housing_quality_rating physical_condition_rating  \\\n",
       "6                 3: good              1: very poor   \n",
       "7            1: very poor              5: excellent   \n",
       "8            1: very poor              4: very good   \n",
       "9                 3: good                   3: good   \n",
       "27           1: very poor              5: excellent   \n",
       "\n",
       "   physical_access_arrangement_rating intellectual_access_description_rating  \\\n",
       "6                        5: excellent                           1: very poor   \n",
       "7                        1: very poor                                3: good   \n",
       "8                        1: very poor                           4: very good   \n",
       "9                        4: very good                           5: excellent   \n",
       "27                       4: very good                           4: very good   \n",
       "\n",
       "   interest_rating documentation_quality_rating  \n",
       "6     1: very poor                 1: very poor  \n",
       "7     1: very poor                 5: excellent  \n",
       "8          3: good                 1: very poor  \n",
       "9     5: excellent                 5: excellent  \n",
       "27    5: excellent                 4: very good  "
      ]
     },
     "execution_count": 27,
     "metadata": {},
     "output_type": "execute_result"
    }
   ],
   "source": [
    "# Create DataFrame of subset of records for special formats\n",
    "formats_records = assessment[(assessment['audio_materials'] == 'Yes') | \n",
    "                             (assessment['born_digital'] == 'Yes') |\n",
    "                             (assessment['photographs'] == 'Yes') | \n",
    "                             (assessment['scrapbooks'] == 'Yes') |\n",
    "                             (assessment['video_materials'] == 'Yes')]\n",
    "\n",
    "base_cols = ['linked_records_record_id', 'linked_records_record_title', 'surveyed_extent_lf'] + ratings_names\n",
    "\n",
    "formats_records.groupby('purpose').get_group('reformatting prep')[base_cols].head()"
   ]
  },
  {
   "cell_type": "markdown",
   "metadata": {},
   "source": [
    "## Note: Limitations to the counts data"
   ]
  },
  {
   "cell_type": "markdown",
   "metadata": {},
   "source": [
    "Note that the total rows selected above is less than the total count in formats_table:"
   ]
  },
  {
   "cell_type": "code",
   "execution_count": 28,
   "metadata": {},
   "outputs": [
    {
     "data": {
      "text/plain": [
       "(70, 49)"
      ]
     },
     "execution_count": 28,
     "metadata": {},
     "output_type": "execute_result"
    }
   ],
   "source": [
    "formats_records.groupby('purpose').get_group('reformatting prep').shape"
   ]
  },
  {
   "cell_type": "code",
   "execution_count": 29,
   "metadata": {},
   "outputs": [
    {
     "data": {
      "text/html": [
       "<div>\n",
       "<style scoped>\n",
       "    .dataframe tbody tr th:only-of-type {\n",
       "        vertical-align: middle;\n",
       "    }\n",
       "\n",
       "    .dataframe tbody tr th {\n",
       "        vertical-align: top;\n",
       "    }\n",
       "\n",
       "    .dataframe thead th {\n",
       "        text-align: right;\n",
       "    }\n",
       "</style>\n",
       "<table border=\"1\" class=\"dataframe\">\n",
       "  <thead>\n",
       "    <tr style=\"text-align: right;\">\n",
       "      <th></th>\n",
       "      <th>audio_materials</th>\n",
       "      <th>born_digital</th>\n",
       "      <th>photographs</th>\n",
       "      <th>scrapbooks</th>\n",
       "      <th>video_materials</th>\n",
       "      <th>All</th>\n",
       "    </tr>\n",
       "    <tr>\n",
       "      <th>purpose</th>\n",
       "      <th></th>\n",
       "      <th></th>\n",
       "      <th></th>\n",
       "      <th></th>\n",
       "      <th></th>\n",
       "      <th></th>\n",
       "    </tr>\n",
       "  </thead>\n",
       "  <tbody>\n",
       "    <tr>\n",
       "      <th>reformatting prep</th>\n",
       "      <td>48</td>\n",
       "      <td>27</td>\n",
       "      <td>10</td>\n",
       "      <td>12</td>\n",
       "      <td>10</td>\n",
       "      <td>107</td>\n",
       "    </tr>\n",
       "  </tbody>\n",
       "</table>\n",
       "</div>"
      ],
      "text/plain": [
       "                   audio_materials  born_digital  photographs  scrapbooks  \\\n",
       "purpose                                                                     \n",
       "reformatting prep               48            27           10          12   \n",
       "\n",
       "                   video_materials  All  \n",
       "purpose                                  \n",
       "reformatting prep               10  107  "
      ]
     },
     "execution_count": 29,
     "metadata": {},
     "output_type": "execute_result"
    }
   ],
   "source": [
    "formats_table.groupby('purpose').get_group('reformatting prep')"
   ]
  },
  {
   "cell_type": "markdown",
   "metadata": {},
   "source": [
    "This is because some assessment records have multiple types of \"special formats,\" which is not surprising given the diveresity of formats found in archives. However, it does point to a limitation of the (example) assessment data: **the formats variables capture the presence (or absence) of a given format, but not the quantity of individual objects in those formats**.\n",
    "\n",
    "This shortcoming *could* be addressed during data collection by including an estimation (or count) of the number of items in a note field. Of course, that would result in mulitple values (for multiple formats) being held in a free-text note field, which introduces another set of challenges (consitent data entry, parsing the multi-values fields, etc.) Choose your battles wisely. "
   ]
  },
  {
   "cell_type": "markdown",
   "metadata": {},
   "source": [
    "## Writing to file"
   ]
  },
  {
   "cell_type": "markdown",
   "metadata": {},
   "source": [
    "You should probably share this information with others, say, in an Excel file. Write formats_records and formats_table to Excel, with `pd.ExcelWriter`."
   ]
  },
  {
   "cell_type": "code",
   "execution_count": 32,
   "metadata": {},
   "outputs": [],
   "source": [
    "# Write assessment records and table to different sheets of an Excel file. Modify file path and header argument as needed.\n",
    "with pd.ExcelWriter('data/collections_for_reformatting.xlsx') as writer:\n",
    "    formats_records.groupby('purpose').get_group('reformatting prep').to_excel(writer, sheet_name='records', index=False)\n",
    "    formats_table.groupby('purpose').get_group('reformatting prep').to_excel(writer, sheet_name='counts')"
   ]
  },
  {
   "cell_type": "markdown",
   "metadata": {},
   "source": [
    "## Forging ahead\n",
    "The same general approach used here can be adapted to clean and explore - and dig deeper into - all manner of collections (meta)data (catalog records, digital asset metadata, etc.). As stated at the beginning, this notebook only scratches the surface of how Pandas can be used in scalable, reproducable solutions that advance data-informed decision-making and produce new knowledge from collections (meta)data.  "
   ]
  }
 ],
 "metadata": {
  "kernelspec": {
   "display_name": "Python 3",
   "language": "python",
   "name": "python3"
  },
  "language_info": {
   "codemirror_mode": {
    "name": "ipython",
    "version": 3
   },
   "file_extension": ".py",
   "mimetype": "text/x-python",
   "name": "python",
   "nbconvert_exporter": "python",
   "pygments_lexer": "ipython3",
   "version": "3.7.3"
  }
 },
 "nbformat": 4,
 "nbformat_minor": 2
}
